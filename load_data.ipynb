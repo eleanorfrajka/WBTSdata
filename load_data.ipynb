{
 "cells": [
  {
   "cell_type": "markdown",
   "metadata": {},
   "source": [
    "# This Notebook loads all data file from the Western Boundary Time Series and safes them at a new directory"
   ]
  },
  {
   "cell_type": "markdown",
   "metadata": {},
   "source": [
    "## Import all necessary packages"
   ]
  },
  {
   "cell_type": "code",
   "execution_count": 1,
   "metadata": {},
   "outputs": [],
   "source": [
    "import numpy as np\n",
    "import pandas as pd\n",
    "import os\n",
    "import xarray as xr\n",
    "import datetime\n",
    "import matplotlib.pyplot as plt\n",
    "import yaml"
   ]
  },
  {
   "cell_type": "code",
   "execution_count": 2,
   "metadata": {},
   "outputs": [],
   "source": [
    "### Import the functions to load the calibration files and the \n",
    "from load_data import load_cal_files, load_vel_files, merge_datasets\n",
    "from load_data import missing_datetime_2005_05 as mdt"
   ]
  },
  {
   "cell_type": "markdown",
   "metadata": {},
   "source": [
    "## Print basepath and safepath that are defined in the configuration file. The basepath should contain the data of the WBTS and the safepath is the directory here the created files will be stored in"
   ]
  },
  {
   "cell_type": "code",
   "execution_count": 3,
   "metadata": {},
   "outputs": [
    {
     "name": "stdout",
     "output_type": "stream",
     "text": [
      "Basepath:  /Users/tillmoritz/Desktop/Work/WBTSData \n",
      "Safepath:  /Users/tillmoritz/Desktop/Work/WBTSData/Created_files\n"
     ]
    }
   ],
   "source": [
    "### import basepath from mission_config.yaml\n",
    "with open('load_data/config.yaml', 'r') as file:\n",
    "        config = yaml.safe_load(file)\n",
    "basepath = config['basepath']\n",
    "safepath = config['safepath']\n",
    "print('Basepath: ',basepath ,'\\nSafepath: ',safepath)"
   ]
  },
  {
   "cell_type": "markdown",
   "metadata": {},
   "source": [
    "### Define all directories of the calibration data"
   ]
  },
  {
   "cell_type": "code",
   "execution_count": 4,
   "metadata": {},
   "outputs": [],
   "source": [
    "dir_list_ADCP = merge_datasets.dir_list_ADCP(basepath)\n",
    "dir_list_CTD = merge_datasets.dir_list_CTD(basepath)\n"
   ]
  },
  {
   "cell_type": "markdown",
   "metadata": {},
   "source": [
    "### make directories within the safepath for the ADCP, CTD and the merge datasets"
   ]
  },
  {
   "cell_type": "code",
   "execution_count": 5,
   "metadata": {},
   "outputs": [],
   "source": [
    "os.makedirs(os.path.join(safepath, 'CTD'), exist_ok=True)\n",
    "os.makedirs(os.path.join(safepath, 'ADCP'), exist_ok=True)\n",
    "os.makedirs(os.path.join(safepath, 'Merged'), exist_ok=True)"
   ]
  },
  {
   "cell_type": "markdown",
   "metadata": {},
   "source": [
    "## Create all dataset for each year and safe it in the dedicated file in safepath"
   ]
  },
  {
   "cell_type": "code",
   "execution_count": 6,
   "metadata": {},
   "outputs": [
    {
     "name": "stdout",
     "output_type": "stream",
     "text": [
      "Saved:  WBTS_2001_04_CTD.nc\n",
      "Saved:  WBTS_2002_06_CTD.nc\n",
      "Saved:  WBTS_2003_02_CTD.nc\n",
      "Saved:  WBTS_2004_09_CTD.nc\n",
      "Saved:  WBTS_2005_05_CTD.nc\n",
      "Saved:  WBTS_2005_09_CTD.nc\n",
      "Saved:  WBTS_2006_03_CTD.nc\n",
      "Saved:  WBTS_2006_09_CTD.nc\n",
      "Saved:  WBTS_2007_03_CTD.nc\n",
      "Saved:  WBTS_2007_09_CTD.nc\n",
      "Saved:  WBTS_2008_04_CTD.nc\n",
      "Saved:  WBTS_2008_09_CTD.nc\n",
      "Saved:  WBTS_2009_04_CTD.nc\n",
      "Saved:  WBTS_2009_11_CTD.nc\n",
      "Saved:  WBTS_2010_03_CTD.nc\n",
      "Saved:  WBTS_2011_04_CTD.nc\n",
      "Saved:  WBTS_2012_02_CTD.nc\n",
      "Saved:  WBTS_2012_09_CTD.nc\n",
      "Saved:  WBTS_2013_02_CTD.nc\n",
      "Saved:  WBTS_2014_03_CTD.nc\n",
      "Saved:  WBTS_2015_02_CTD.nc\n",
      "Saved:  WBTS_2015_10_CTD.nc\n",
      "Saved:  WBTS_2016_02_CTD.nc\n",
      "Saved:  WBTS_2017_05_CTD.nc\n",
      "Saved:  WBTS_2018_02_CTD.nc\n",
      "Saved:  WBTS_2018_11_CTD.nc\n",
      "Saved:  WBTS_2019_12_CTD.nc\n",
      "Saved:  WBTS_2021_02_CTD.nc\n",
      "Saved:  WBTS_2023_02_CTD.nc\n"
     ]
    }
   ],
   "source": [
    "### save the data for each individual year\n",
    "for i in dir_list_CTD:\n",
    "    ds = load_cal_files.create_Dataset(i)\n",
    "    file_name = 'WBTS_' + i.split('GC_')[1][:7] + '_CTD.nc'\n",
    "    if os.path.exists(safepath + '/CTD/' + file_name):\n",
    "        os.remove(safepath + '/CTD/' + file_name)\n",
    "    ds.to_netcdf(safepath + '/CTD/' + file_name)\n",
    "    print('Saved: ', file_name)"
   ]
  },
  {
   "cell_type": "code",
   "execution_count": 7,
   "metadata": {},
   "outputs": [
    {
     "name": "stdout",
     "output_type": "stream",
     "text": [
      "Saved:  WBTS_2001_04_ADCP.nc\n",
      "Saved:  WBTS_2002_06_ADCP.nc\n",
      "Saved:  WBTS_2003_02_ADCP.nc\n",
      "Saved:  WBTS_2004_09_ADCP.nc\n",
      "Saved:  WBTS_2005_05_ADCP.nc\n",
      "Saved:  WBTS_2005_09_ADCP.nc\n",
      "Saved:  WBTS_2006_03_ADCP.nc\n",
      "Saved:  WBTS_2006_09_ADCP.nc\n",
      "Saved:  WBTS_2007_03_ADCP.nc\n",
      "Saved:  WBTS_2007_09_ADCP.nc\n",
      "Saved:  WBTS_2008_04_ADCP.nc\n",
      "Saved:  WBTS_2008_09_ADCP.nc\n",
      "Saved:  WBTS_2009_04_ADCP.nc\n",
      "Saved:  WBTS_2009_11_ADCP.nc\n",
      "Saved:  WBTS_2010_03_ADCP.nc\n",
      "Saved:  WBTS_2011_04_ADCP.nc\n",
      "Saved:  WBTS_2012_02_ADCP.nc\n",
      "Saved:  WBTS_2012_09_ADCP.nc\n",
      "Saved:  WBTS_2013_02_ADCP.nc\n",
      "Saved:  WBTS_2014_03_ADCP.nc\n",
      "Saved:  WBTS_2015_02_ADCP.nc\n",
      "Saved:  WBTS_2015_10_ADCP.nc\n",
      "Saved:  WBTS_2016_02_ADCP.nc\n",
      "Saved:  WBTS_2017_05_ADCP.nc\n",
      "Saved:  WBTS_2018_02_ADCP.nc\n",
      "Saved:  WBTS_2018_11_ADCP.nc\n"
     ]
    }
   ],
   "source": [
    "for i in dir_list_ADCP:\n",
    "    ds = load_vel_files.create_Dataset(i)\n",
    "    file_name = 'WBTS_' + i.split('GC_')[1][:7] + '_ADCP.nc'\n",
    "    if os.path.exists(safepath + '/ADCP/' + file_name):\n",
    "        os.remove(safepath + '/ADCP/' + file_name)\n",
    "    ds.to_netcdf(safepath + '/ADCP/' + file_name)\n",
    "    print('Saved: ', file_name)"
   ]
  },
  {
   "cell_type": "markdown",
   "metadata": {},
   "source": [
    "### merge and save the datasets of ADCP and CTD for each year"
   ]
  },
  {
   "cell_type": "code",
   "execution_count": 8,
   "metadata": {},
   "outputs": [
    {
     "name": "stdout",
     "output_type": "stream",
     "text": [
      "Merging CTD and ADCP data for year:  2001_04\n",
      "Merging CTD and ADCP data for year:  2002_06\n",
      "Merging CTD and ADCP data for year:  2003_02\n",
      "Merging CTD and ADCP data for year:  2004_09\n",
      "Merging CTD and ADCP data for year:  2005_05\n",
      "Merging CTD and ADCP data for year:  2005_09\n",
      "Merging CTD and ADCP data for year:  2006_03\n",
      "Merging CTD and ADCP data for year:  2006_09\n",
      "Merging CTD and ADCP data for year:  2007_03\n",
      "Merging CTD and ADCP data for year:  2007_09\n",
      "Merging CTD and ADCP data for year:  2008_04\n",
      "Merging CTD and ADCP data for year:  2008_09\n",
      "Merging CTD and ADCP data for year:  2009_04\n",
      "Merging CTD and ADCP data for year:  2009_11\n",
      "Merging CTD and ADCP data for year:  2010_03\n",
      "Merging CTD and ADCP data for year:  2011_04\n",
      "Merging CTD and ADCP data for year:  2012_02\n",
      "Merging CTD and ADCP data for year:  2012_09\n",
      "Merging CTD and ADCP data for year:  2013_02\n",
      "Merging CTD and ADCP data for year:  2014_03\n",
      "Merging CTD and ADCP data for year:  2015_02\n",
      "Merging CTD and ADCP data for year:  2015_10\n",
      "Merging CTD and ADCP data for year:  2016_02\n",
      "Merging CTD and ADCP data for year:  2017_05\n",
      "Merging CTD and ADCP data for year:  2018_02\n",
      "Merging CTD and ADCP data for year:  2018_11\n"
     ]
    }
   ],
   "source": [
    "### load CTD and ADCP datasets for years having both data and merge them\n",
    "for cal_dir in dir_list_CTD:\n",
    "    year = cal_dir.split('GC_')[1][:7]\n",
    "    for vel_dir in dir_list_ADCP:\n",
    "        if year in vel_dir:\n",
    "            print('Merging CTD and ADCP data for year: ', year)\n",
    "            merged_ds = merge_datasets.merge_datasets(cal_dir, vel_dir)\n",
    "            file_name = 'WBTS_' + year + '_CTD_LADCP.nc'\n",
    "            merged_ds.to_netcdf(safepath + '/Merged/' + file_name)\n",
    "        else:\n",
    "            continue"
   ]
  }
 ],
 "metadata": {
  "kernelspec": {
   "display_name": "Python 3",
   "language": "python",
   "name": "python3"
  },
  "language_info": {
   "codemirror_mode": {
    "name": "ipython",
    "version": 3
   },
   "file_extension": ".py",
   "mimetype": "text/x-python",
   "name": "python",
   "nbconvert_exporter": "python",
   "pygments_lexer": "ipython3",
   "version": "3.13.0"
  }
 },
 "nbformat": 4,
 "nbformat_minor": 2
}
