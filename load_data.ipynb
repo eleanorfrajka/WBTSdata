{
 "cells": [
  {
   "cell_type": "markdown",
   "metadata": {},
   "source": [
    "## Import all necessary packages"
   ]
  },
  {
   "cell_type": "code",
   "execution_count": 1,
   "metadata": {},
   "outputs": [],
   "source": [
    "import numpy as np\n",
    "import pandas as pd\n",
    "import os\n",
    "import xarray as xr\n",
    "import datetime\n",
    "import matplotlib.pyplot as plt\n"
   ]
  },
  {
   "cell_type": "code",
   "execution_count": 2,
   "metadata": {},
   "outputs": [
    {
     "name": "stderr",
     "output_type": "stream",
     "text": [
      "/Users/eddifying/Cloudfree/gitlab-cloudfree/WBTSdata/load_data/load_cal_files.py:18: SyntaxWarning: invalid escape sequence '\\s'\n",
      "  cal_list.append(pd.read_csv(os.path.join(cal_dir, cal_file), names=column_names, skiprows=12, sep='\\s+'))\n",
      "/Users/eddifying/Cloudfree/gitlab-cloudfree/WBTSdata/load_data/load_vel_files.py:18: SyntaxWarning: invalid escape sequence '\\s'\n",
      "  vel_list.append(pd.read_csv(os.path.join(vel_dir, vel_file),names=column_names, skiprows=74, sep='\\s+', encoding='utf-8'))\n"
     ]
    }
   ],
   "source": [
    "### Import the functions to load the calibration files and the \n",
    "from load_data import load_cal_files, load_vel_files, merge_datasets\n",
    "from load_data import missing_datetime_2005_05 as mdt"
   ]
  },
  {
   "cell_type": "markdown",
   "metadata": {},
   "source": [
    "### Define all directories of the calibration data"
   ]
  },
  {
   "cell_type": "code",
   "execution_count": null,
   "metadata": {},
   "outputs": [],
   "source": [
    "basepath = '/Users/eddifying/Dropbox/data/RAPID-data/hydro-data/WBTS-dup/'\n",
    "basepath = '/Users/tillmoritz/Desktop/Work/WBTSData/'\n"
   ]
  },
  {
   "cell_type": "code",
   "execution_count": 4,
   "metadata": {},
   "outputs": [],
   "source": [
    "### create two lists of all the directories that contain CTD and ADCP data\n",
    "dir_list_CTD = []\n",
    "for root, dirs,files in os.walk(basepath):\n",
    "    if 'CTD' in dirs: \n",
    "        dir_list_CTD.append(os.path.join(root, 'CTD'))\n",
    "dir_list_CTD.sort()\n",
    "\n",
    "dir_list_ADCP = []\n",
    "for root, dirs,files in os.walk(basepath):\n",
    "    if 'FINAL_ADCP_PRODUCTS' and 'ladcp_velfiles' in dirs: \n",
    "        dir_list_ADCP.append(os.path.join(root, 'ladcp_velfiles'))\n",
    "    if 'FINAL_ADCP_PRODUCTS' and 'LADCP_velfiles' in dirs:\n",
    "        dir_list_ADCP.append(os.path.join(root, 'LADCP_velfiles'))\n",
    "dir_list_ADCP.sort()\n",
    "### exclude the 2019_12 path since it is empty\n",
    "for i in dir_list_ADCP:\n",
    "    if '2019_12' in i:\n",
    "        dir_list_ADCP.remove(i)"
   ]
  },
  {
   "cell_type": "markdown",
   "metadata": {},
   "source": [
    "### load and safe the datasets of ADCP and CTD for each year"
   ]
  },
  {
   "cell_type": "code",
   "execution_count": null,
   "metadata": {},
   "outputs": [],
   "source": [
    "safe_path = 'data/'\n",
    "safe_path = '/Users/tillmoritz/Desktop/Work/Created_files/'\n",
    "\n",
    "os.makedirs(os.path.join(safe_path, 'CTD'), exist_ok=True)\n",
    "os.makedirs(os.path.join(safe_path, 'ADCP'), exist_ok=True)\n",
    "os.makedirs(os.path.join(safe_path, 'Merged'), exist_ok=True)"
   ]
  },
  {
   "cell_type": "code",
   "execution_count": 16,
   "metadata": {},
   "outputs": [],
   "source": [
    "### save the data for each individual year\n",
    "for i in dir_list_CTD:\n",
    "    ds = load_cal_files.create_Dataset(i)\n",
    "    file_name = 'WBTS_' + i.split('GC_')[1][:7] + '_CTD.nc'\n",
    "    if os.path.exists(safe_path + 'CTD/' + file_name):\n",
    "        os.remove(safe_path + 'CTD/' + file_name)\n",
    "    ds.to_netcdf(safe_path + 'CTD/' + file_name)"
   ]
  },
  {
   "cell_type": "code",
   "execution_count": 17,
   "metadata": {},
   "outputs": [],
   "source": [
    "for i in dir_list_ADCP:\n",
    "    ds = load_vel_files.create_Dataset(i)\n",
    "    file_name = 'WBTS_' + i.split('GC_')[1][:7] + '_ADCP.nc'\n",
    "    ds.to_netcdf(safe_path + 'ADCP/' + file_name)"
   ]
  },
  {
   "cell_type": "markdown",
   "metadata": {},
   "source": [
    "### merge and save the datasets of ADCP and CTD for each year"
   ]
  },
  {
   "cell_type": "code",
   "execution_count": 21,
   "metadata": {},
   "outputs": [
    {
     "name": "stdout",
     "output_type": "stream",
     "text": [
      "Merging CTD and ADCP data for year:  2001_04\n",
      "Merging CTD and ADCP data for year:  2002_06\n",
      "Merging CTD and ADCP data for year:  2003_02\n",
      "Merging CTD and ADCP data for year:  2004_09\n",
      "Merging CTD and ADCP data for year:  2005_05\n",
      "Merging CTD and ADCP data for year:  2005_09\n",
      "Merging CTD and ADCP data for year:  2006_03\n",
      "Merging CTD and ADCP data for year:  2006_09\n",
      "Merging CTD and ADCP data for year:  2007_03\n",
      "Merging CTD and ADCP data for year:  2007_09\n",
      "Merging CTD and ADCP data for year:  2008_04\n",
      "Merging CTD and ADCP data for year:  2008_09\n",
      "Merging CTD and ADCP data for year:  2009_04\n",
      "Merging CTD and ADCP data for year:  2009_11\n",
      "Merging CTD and ADCP data for year:  2010_03\n",
      "Merging CTD and ADCP data for year:  2011_04\n",
      "Merging CTD and ADCP data for year:  2012_02\n",
      "Merging CTD and ADCP data for year:  2012_09\n",
      "Merging CTD and ADCP data for year:  2013_02\n",
      "Merging CTD and ADCP data for year:  2014_03\n",
      "Merging CTD and ADCP data for year:  2015_02\n",
      "Merging CTD and ADCP data for year:  2015_10\n",
      "Merging CTD and ADCP data for year:  2016_02\n",
      "Merging CTD and ADCP data for year:  2017_05\n",
      "Merging CTD and ADCP data for year:  2018_02\n",
      "Merging CTD and ADCP data for year:  2018_11\n"
     ]
    }
   ],
   "source": [
    "### load CTD and ADCP datasets for years having both data and merge them\n",
    "for cal_dir in dir_list_CTD:\n",
    "    year = cal_dir[-11:-4]\n",
    "    for vel_dir in dir_list_ADCP:\n",
    "        if year in vel_dir:\n",
    "            print('Merging CTD and ADCP data for year: ', year)\n",
    "            merged_ds = merge_datasets.merge_datasets(cal_dir, vel_dir, dir_list_ADCP)\n",
    "            file_name = 'WBTS_' + year + '_CTD_LADCP.nc'\n",
    "            merged_ds.to_netcdf(safe_path + 'Merged/' + file_name)\n",
    "        else:\n",
    "            continue\n",
    "\n",
    "#ds_merged = merge_datasets.merge_datasets(dir_list_CTD[0],dir_list_ADCP[0], dir_list_ADCP)"
   ]
  },
  {
   "cell_type": "code",
   "execution_count": null,
   "metadata": {},
   "outputs": [],
   "source": []
  }
 ],
 "metadata": {
  "kernelspec": {
   "display_name": "Python 3",
   "language": "python",
   "name": "python3"
  },
  "language_info": {
   "codemirror_mode": {
    "name": "ipython",
    "version": 3
   },
   "file_extension": ".py",
   "mimetype": "text/x-python",
   "name": "python",
   "nbconvert_exporter": "python",
   "pygments_lexer": "ipython3",
   "version": "3.12.3"
  }
 },
 "nbformat": 4,
 "nbformat_minor": 2
}
