{
 "cells": [
  {
   "cell_type": "markdown",
   "metadata": {},
   "source": [
    "# Load data from WBTS and save in output_dir\n",
    "\n",
    "Set the `output_dir` in `config.yaml` before starting."
   ]
  },
  {
   "cell_type": "markdown",
   "metadata": {},
   "source": [
    "## Import all necessary packages"
   ]
  },
  {
   "cell_type": "code",
   "execution_count": 1,
   "metadata": {},
   "outputs": [],
   "source": [
    "import numpy as np\n",
    "import pandas as pd\n",
    "import os\n",
    "import xarray as xr\n",
    "import datetime\n",
    "import matplotlib.pyplot as plt\n",
    "import yaml\n",
    "import sys\n",
    "sys.path.append(os.path.abspath('').split('notebooks')[0])"
   ]
  },
  {
   "cell_type": "markdown",
   "metadata": {},
   "source": [
    "Note: This assumes you have already installed the package using\n",
    "``` \n",
    "pip install -e .\n",
    "```\n",
    "\n",
    "An alternative could be:\n",
    "```\n",
    "import pathlib\n",
    "import sys\n",
    "script_dir = pathlib.Path().parent.absolute()\n",
    "parent_dir = script_dir.parents[0]\n",
    "sys.path.append(str(parent_dir))\n",
    "sys.path.append(str(parent_dir) + 'load_data')\n",
    "```\n",
    "\n",
    "which assumes that you're running the notebook from within `WBTSdata/notebooks/`.\n"
   ]
  },
  {
   "cell_type": "code",
   "execution_count": 2,
   "metadata": {},
   "outputs": [],
   "source": [
    "### Import the functions to load the calibration files and the \n",
    "from load_data import load_cal_files, load_vel_files, merge_datasets, tools\n",
    "from load_data import missing_datetime_2005_05 as mdt"
   ]
  },
  {
   "cell_type": "markdown",
   "metadata": {},
   "source": [
    "## Print basepath and safepath that are defined in the configuration file. The basepath should contain the data of the WBTS and the safepath is the directory here the created files will be stored in"
   ]
  },
  {
   "cell_type": "code",
   "execution_count": 3,
   "metadata": {},
   "outputs": [
    {
     "name": "stdout",
     "output_type": "stream",
     "text": [
      "Input directory:  /Users/tillmoritz/Desktop/Work/WBTSData \n",
      "Output directory:  /Users/tillmoritz/Desktop/Work/Created_files\n"
     ]
    }
   ],
   "source": [
    "config = tools.get_config()\n",
    "input_dir = config['input_dir']\n",
    "output_dir = config['output_dir']\n",
    "print('Input directory: ',input_dir,'\\nOutput directory: ',output_dir)"
   ]
  },
  {
   "cell_type": "markdown",
   "metadata": {},
   "source": [
    "### Define all directories of the calibration data"
   ]
  },
  {
   "cell_type": "code",
   "execution_count": 4,
   "metadata": {},
   "outputs": [],
   "source": [
    "dir_list_ADCP = merge_datasets.dir_list_ADCP(input_dir)\n",
    "dir_list_CTD = merge_datasets.dir_list_CTD(input_dir)\n"
   ]
  },
  {
   "cell_type": "markdown",
   "metadata": {},
   "source": [
    "### make directories within the safepath for the ADCP, CTD and the merge datasets"
   ]
  },
  {
   "cell_type": "code",
   "execution_count": 5,
   "metadata": {},
   "outputs": [],
   "source": [
    "os.makedirs(os.path.join(output_dir, 'CTD'), exist_ok=True)\n",
    "os.makedirs(os.path.join(output_dir, 'ADCP'), exist_ok=True)\n",
    "os.makedirs(os.path.join(output_dir, 'Merged'), exist_ok=True)"
   ]
  },
  {
   "cell_type": "markdown",
   "metadata": {},
   "source": [
    "## Create all dataset for each year and safe it in the dedicated file in safepath"
   ]
  },
  {
   "cell_type": "code",
   "execution_count": 6,
   "metadata": {},
   "outputs": [],
   "source": [
    "### save the data for each individual year\n",
    "# Set the directory for yaml files as the root directory + 'load_data/' --> Could be in 'config/' instead\n",
    "if 0:\n",
    "    for i in dir_list_CTD:\n",
    "        ds = load_cal_files.create_Dataset(i, config)\n",
    "        file_name = 'WBTS_' + i.split('GC_')[1][:7] + '_CTD.nc'\n",
    "        if os.path.exists(os.path.join(output_dir, 'CTD', file_name)):\n",
    "            os.remove(os.path.join(output_dir, 'CTD', file_name))\n",
    "        ds.to_netcdf(os.path.join(output_dir, 'CTD', file_name))\n",
    "        print('Saved: ', file_name)"
   ]
  },
  {
   "cell_type": "code",
   "execution_count": 7,
   "metadata": {},
   "outputs": [],
   "source": [
    "if 0:\n",
    "    for i in dir_list_ADCP:\n",
    "        ds = load_vel_files.create_Dataset(i, config)\n",
    "        file_name = 'WBTS_' + i.split('GC_')[1][:7] + '_ADCP.nc'\n",
    "        if os.path.exists(os.path.join(output_dir, 'ADCP', file_name)):\n",
    "            os.remove(os.path.join(output_dir, 'ADCP', file_name))\n",
    "        ds.to_netcdf(os.path.join(output_dir, 'ADCP', file_name))\n",
    "        print('Saved: ', file_name)"
   ]
  },
  {
   "cell_type": "markdown",
   "metadata": {},
   "source": [
    "### merge and save the datasets of ADCP and CTD for each year. For the years without LADCP data, np.nan will be initiallized as vakues"
   ]
  },
  {
   "cell_type": "code",
   "execution_count": 8,
   "metadata": {},
   "outputs": [
    {
     "name": "stdout",
     "output_type": "stream",
     "text": [
      "Merging CTD and ADCP data for year:  2001_04\n",
      "Deleted existing file: /Users/tillmoritz/Desktop/Work/Created_files/Merged/WBTS_2001_04_CTD_LADCP.nc\n",
      "Merging CTD and ADCP data for year:  2002_06\n",
      "Deleted existing file: /Users/tillmoritz/Desktop/Work/Created_files/Merged/WBTS_2002_06_CTD_LADCP.nc\n",
      "Merging CTD and ADCP data for year:  2003_02\n",
      "Deleted existing file: /Users/tillmoritz/Desktop/Work/Created_files/Merged/WBTS_2003_02_CTD_LADCP.nc\n",
      "Merging CTD and ADCP data for year:  2004_09\n",
      "Deleted existing file: /Users/tillmoritz/Desktop/Work/Created_files/Merged/WBTS_2004_09_CTD_LADCP.nc\n",
      "Merging CTD and ADCP data for year:  2005_05\n",
      "Deleted existing file: /Users/tillmoritz/Desktop/Work/Created_files/Merged/WBTS_2005_05_CTD_LADCP.nc\n",
      "Merging CTD and ADCP data for year:  2005_09\n",
      "Deleted existing file: /Users/tillmoritz/Desktop/Work/Created_files/Merged/WBTS_2005_09_CTD_LADCP.nc\n",
      "Merging CTD and ADCP data for year:  2006_03\n",
      "Deleted existing file: /Users/tillmoritz/Desktop/Work/Created_files/Merged/WBTS_2006_03_CTD_LADCP.nc\n",
      "Merging CTD and ADCP data for year:  2006_09\n",
      "Deleted existing file: /Users/tillmoritz/Desktop/Work/Created_files/Merged/WBTS_2006_09_CTD_LADCP.nc\n",
      "Merging CTD and ADCP data for year:  2007_03\n",
      "Deleted existing file: /Users/tillmoritz/Desktop/Work/Created_files/Merged/WBTS_2007_03_CTD_LADCP.nc\n",
      "Merging CTD and ADCP data for year:  2007_09\n",
      "Deleted existing file: /Users/tillmoritz/Desktop/Work/Created_files/Merged/WBTS_2007_09_CTD_LADCP.nc\n",
      "Merging CTD and ADCP data for year:  2008_04\n",
      "Deleted existing file: /Users/tillmoritz/Desktop/Work/Created_files/Merged/WBTS_2008_04_CTD_LADCP.nc\n",
      "Merging CTD and ADCP data for year:  2008_09\n",
      "Deleted existing file: /Users/tillmoritz/Desktop/Work/Created_files/Merged/WBTS_2008_09_CTD_LADCP.nc\n",
      "Merging CTD and ADCP data for year:  2009_04\n",
      "Deleted existing file: /Users/tillmoritz/Desktop/Work/Created_files/Merged/WBTS_2009_04_CTD_LADCP.nc\n",
      "Merging CTD and ADCP data for year:  2009_11\n",
      "Deleted existing file: /Users/tillmoritz/Desktop/Work/Created_files/Merged/WBTS_2009_11_CTD_LADCP.nc\n",
      "Merging CTD and ADCP data for year:  2010_03\n",
      "Deleted existing file: /Users/tillmoritz/Desktop/Work/Created_files/Merged/WBTS_2010_03_CTD_LADCP.nc\n",
      "Merging CTD and ADCP data for year:  2011_04\n",
      "Deleted existing file: /Users/tillmoritz/Desktop/Work/Created_files/Merged/WBTS_2011_04_CTD_LADCP.nc\n",
      "Merging CTD and ADCP data for year:  2012_02\n",
      "Deleted existing file: /Users/tillmoritz/Desktop/Work/Created_files/Merged/WBTS_2012_02_CTD_LADCP.nc\n",
      "Merging CTD and ADCP data for year:  2012_09\n",
      "Deleted existing file: /Users/tillmoritz/Desktop/Work/Created_files/Merged/WBTS_2012_09_CTD_LADCP.nc\n",
      "Merging CTD and ADCP data for year:  2013_02\n",
      "Deleted existing file: /Users/tillmoritz/Desktop/Work/Created_files/Merged/WBTS_2013_02_CTD_LADCP.nc\n",
      "Merging CTD and ADCP data for year:  2014_03\n",
      "Deleted existing file: /Users/tillmoritz/Desktop/Work/Created_files/Merged/WBTS_2014_03_CTD_LADCP.nc\n",
      "Merging CTD and ADCP data for year:  2015_02\n",
      "Deleted existing file: /Users/tillmoritz/Desktop/Work/Created_files/Merged/WBTS_2015_02_CTD_LADCP.nc\n",
      "Merging CTD and ADCP data for year:  2015_10\n",
      "Deleted existing file: /Users/tillmoritz/Desktop/Work/Created_files/Merged/WBTS_2015_10_CTD_LADCP.nc\n",
      "Merging CTD and ADCP data for year:  2016_02\n",
      "Deleted existing file: /Users/tillmoritz/Desktop/Work/Created_files/Merged/WBTS_2016_02_CTD_LADCP.nc\n",
      "Merging CTD and ADCP data for year:  2017_05\n",
      "Deleted existing file: /Users/tillmoritz/Desktop/Work/Created_files/Merged/WBTS_2017_05_CTD_LADCP.nc\n",
      "Merging CTD and ADCP data for year:  2018_02\n",
      "Deleted existing file: /Users/tillmoritz/Desktop/Work/Created_files/Merged/WBTS_2018_02_CTD_LADCP.nc\n",
      "Merging CTD and ADCP data for year:  2018_11\n",
      "Deleted existing file: /Users/tillmoritz/Desktop/Work/Created_files/Merged/WBTS_2018_11_CTD_LADCP.nc\n",
      "No ADCP data for year:  2019_12 . Nan values will be filled in the merged dataset\n",
      "Warning: Variable 'LATITUDE' already exists in the dataset.\n",
      "Warning: Variable 'LONGITUDE' already exists in the dataset.\n",
      "Warning: Variable 'DEPTH' already exists in the dataset.\n",
      "Warning: Variable 'DOXY' already exists in the dataset.\n",
      "Warning: Variable 'TEMP' already exists in the dataset.\n",
      "Warning: Variable 'PSAL' already exists in the dataset.\n",
      "Warning: Variable 'CAST_NUMBER' already exists in the dataset.\n",
      "Warning: Variable 'THETA' already exists in the dataset.\n",
      "Warning: Variable 'GA' already exists in the dataset.\n",
      "Warning: Variable 'DYN_HEIGHT' already exists in the dataset.\n",
      "Warning: Variable 'GC_STRING' already exists in the dataset.\n",
      "Deleted existing file: WBTS_2019_12_CTD_LADCP.nc\n",
      "No ADCP data for year:  2021_02 . Nan values will be filled in the merged dataset\n",
      "Warning: Variable 'LATITUDE' already exists in the dataset.\n",
      "Warning: Variable 'LONGITUDE' already exists in the dataset.\n",
      "Warning: Variable 'DEPTH' already exists in the dataset.\n",
      "Warning: Variable 'DOXY' already exists in the dataset.\n",
      "Warning: Variable 'TEMP' already exists in the dataset.\n",
      "Warning: Variable 'PSAL' already exists in the dataset.\n",
      "Warning: Variable 'CAST_NUMBER' already exists in the dataset.\n",
      "Warning: Variable 'THETA' already exists in the dataset.\n",
      "Warning: Variable 'GA' already exists in the dataset.\n",
      "Warning: Variable 'DYN_HEIGHT' already exists in the dataset.\n",
      "Warning: Variable 'GC_STRING' already exists in the dataset.\n",
      "Deleted existing file: WBTS_2021_02_CTD_LADCP.nc\n",
      "No ADCP data for year:  2023_02 . Nan values will be filled in the merged dataset\n",
      "Warning: Variable 'LATITUDE' already exists in the dataset.\n",
      "Warning: Variable 'LONGITUDE' already exists in the dataset.\n",
      "Warning: Variable 'DEPTH' already exists in the dataset.\n",
      "Warning: Variable 'DOXY' already exists in the dataset.\n",
      "Warning: Variable 'TEMP' already exists in the dataset.\n",
      "Warning: Variable 'PSAL' already exists in the dataset.\n",
      "Warning: Variable 'CAST_NUMBER' already exists in the dataset.\n",
      "Warning: Variable 'THETA' already exists in the dataset.\n",
      "Warning: Variable 'GA' already exists in the dataset.\n",
      "Warning: Variable 'DYN_HEIGHT' already exists in the dataset.\n",
      "Warning: Variable 'GC_STRING' already exists in the dataset.\n",
      "Deleted existing file: WBTS_2023_02_CTD_LADCP.nc\n"
     ]
    }
   ],
   "source": [
    "### load CTD and ADCP datasets for years having both data and merge them\n",
    "for cal_dir in dir_list_CTD:\n",
    "    year = cal_dir.split('GC_')[1][:7]\n",
    "    ### check if the year string is in any of the velocity directories\n",
    "    for vel_dir in dir_list_ADCP:\n",
    "        merge = False\n",
    "        if year in vel_dir:\n",
    "            merge = True\n",
    "            break\n",
    "    if merge == True:\n",
    "        print('Merging CTD and ADCP data for year: ', year)\n",
    "        merged_ds = merge_datasets.merge_datasets(cal_dir, vel_dir)\n",
    "        file_name = 'WBTS_' + year + '_CTD_LADCP.nc'\n",
    "        path = os.path.join(output_dir, 'Merged', file_name)\n",
    "        if os.path.exists(path):\n",
    "            os.remove(path)\n",
    "            print(f\"Deleted existing file: {path}\")\n",
    "        merged_ds.to_netcdf(path)\n",
    "    else:\n",
    "        print('No ADCP data for year: ', year,'. Nan values will be filled in the merged dataset')\n",
    "        merged_ds = merge_datasets.merge_datasets(cal_dir, vel_dir = None)\n",
    "        file_name = 'WBTS_' + year + '_CTD_LADCP.nc'\n",
    "        if os.path.exists(os.path.join(output_dir, 'Merged', file_name)):\n",
    "            os.remove(os.path.join(output_dir, 'Merged', file_name))\n",
    "            print(f\"Deleted existing file: {file_name}\")\n",
    "        merged_ds.to_netcdf(os.path.join(output_dir, 'Merged', file_name))"
   ]
  }
 ],
 "metadata": {
  "kernelspec": {
   "display_name": "scratch_env",
   "language": "python",
   "name": "python3"
  },
  "language_info": {
   "codemirror_mode": {
    "name": "ipython",
    "version": 3
   },
   "file_extension": ".py",
   "mimetype": "text/x-python",
   "name": "python",
   "nbconvert_exporter": "python",
   "pygments_lexer": "ipython3",
   "version": "3.13.0"
  }
 },
 "nbformat": 4,
 "nbformat_minor": 2
}
