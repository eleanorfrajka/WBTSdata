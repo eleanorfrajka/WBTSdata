{
 "cells": [
  {
   "cell_type": "markdown",
   "metadata": {},
   "source": [
    "## Import all necessary packages"
   ]
  },
  {
   "cell_type": "code",
   "execution_count": null,
   "metadata": {},
   "outputs": [],
   "source": [
    "import numpy as np\n",
    "import pandas as pd\n",
    "import os\n",
    "import xarray as xr\n",
    "import matplotlib.pyplot as plt\n",
    "import importlib\n",
    "import yaml\n",
    "import glob\n",
    "\n",
    "from load_data import plotters, tools\n"
   ]
  },
  {
   "cell_type": "markdown",
   "metadata": {},
   "source": [
    "## Load the merged file\n",
    "\n",
    "Loads the file created by running the script `load_data.ipynb`"
   ]
  },
  {
   "cell_type": "code",
   "execution_count": null,
   "metadata": {},
   "outputs": [],
   "source": [
    "### import basepath from mission_config.yaml\n",
    "config = tools.get_config()\n",
    "input_dir = config['input_dir']\n",
    "output_dir = config['output_dir']\n",
    "print('Input directory: ',input_dir ,'\\nOutput directory: ',output_dir)\n"
   ]
  },
  {
   "cell_type": "code",
   "execution_count": null,
   "metadata": {},
   "outputs": [],
   "source": [
    "# Define the path to the merged data files\n",
    "merged_data_path = os.path.join(output_dir, 'Merged', '*.nc')\n",
    "\n",
    "# Get a list of all files in the merged data directory\n",
    "merged_files = glob.glob(merged_data_path)\n",
    "\n",
    "processed_datasets = []\n",
    "for file1 in merged_files:\n",
    "    ds_new = xr.open_dataset(file1)\n",
    "    if ds_new:\n",
    "        processed_datasets.append(ds_new)\n",
    "    else:\n",
    "        print(f\"Warning: Dataset for dive number {ds.attrs['dive_number']} is empty or invalid.\")\n",
    "\n",
    "if not ds_new:\n",
    "    print(f\"No datasets found. Please check whether there are any data files in {merged_data_path}\")\n",
    "else:\n",
    "    print(ds_new)"
   ]
  },
  {
   "cell_type": "code",
   "execution_count": null,
   "metadata": {},
   "outputs": [],
   "source": [
    "concatenated_ds = xr.concat(processed_datasets, dim='DATETIME')"
   ]
  },
  {
   "cell_type": "markdown",
   "metadata": {},
   "source": [
    "### Plot of data coverage"
   ]
  },
  {
   "cell_type": "code",
   "execution_count": null,
   "metadata": {},
   "outputs": [],
   "source": [
    "ds_all = concatenated_ds.sortby('DATETIME')\n",
    "ds_all"
   ]
  },
  {
   "cell_type": "code",
   "execution_count": null,
   "metadata": {},
   "outputs": [],
   "source": [
    "# Example usage\n",
    "fig, ax = plotters.plot_cast_over_time(ds_all)\n",
    "plt.show()"
   ]
  }
 ],
 "metadata": {
  "kernelspec": {
   "display_name": "scratch_env",
   "language": "python",
   "name": "python3"
  },
  "language_info": {
   "codemirror_mode": {
    "name": "ipython",
    "version": 3
   },
   "file_extension": ".py",
   "mimetype": "text/x-python",
   "name": "python",
   "nbconvert_exporter": "python",
   "pygments_lexer": "ipython3",
   "version": "3.12.3"
  }
 },
 "nbformat": 4,
 "nbformat_minor": 2
}
