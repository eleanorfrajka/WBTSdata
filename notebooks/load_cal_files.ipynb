{
 "cells": [
  {
   "cell_type": "code",
   "execution_count": 1,
   "metadata": {},
   "outputs": [
    {
     "name": "stderr",
     "output_type": "stream",
     "text": [
      "/Users/tillmoritz/Desktop/Work/Git/WBTSdata/notebooks/load_cal_files.py:14: SyntaxWarning: invalid escape sequence '\\s'\n",
      "  cal_list.append(pd.read_csv(os.path.join(cal_dir, cal_file), names=column_names, skiprows=12, sep='\\s+'))\n"
     ]
    }
   ],
   "source": [
    "import numpy as np\n",
    "import pandas as pd\n",
    "import os\n",
    "import load_cal_files\n"
   ]
  },
  {
   "cell_type": "code",
   "execution_count": 2,
   "metadata": {},
   "outputs": [],
   "source": [
    "dir = '/Users/tillmoritz/Desktop/Work/WBTSData/GC_2001_04/CTD'"
   ]
  },
  {
   "cell_type": "code",
   "execution_count": 3,
   "metadata": {},
   "outputs": [],
   "source": [
    "data_2001 = load_cal_files.load_cal_from_file(dir)"
   ]
  },
  {
   "cell_type": "code",
   "execution_count": 4,
   "metadata": {},
   "outputs": [],
   "source": [
    "nc_data_2001 = load_cal_files.create_nc_file(data_2001)"
   ]
  },
  {
   "cell_type": "code",
   "execution_count": 8,
   "metadata": {},
   "outputs": [],
   "source": [
    "a,b = load_cal_files.create_coordinates(dir)"
   ]
  },
  {
   "cell_type": "code",
   "execution_count": 9,
   "metadata": {},
   "outputs": [
    {
     "data": {
      "text/plain": [
       "['cast', 'lat', 'long', 'jday', 'mo/da/yr', 'gmt']"
      ]
     },
     "execution_count": 9,
     "metadata": {},
     "output_type": "execute_result"
    }
   ],
   "source": [
    "a"
   ]
  },
  {
   "cell_type": "code",
   "execution_count": 12,
   "metadata": {},
   "outputs": [
    {
     "data": {
      "text/plain": [
       "'929'"
      ]
     },
     "execution_count": 12,
     "metadata": {},
     "output_type": "execute_result"
    }
   ],
   "source": [
    "b[5]"
   ]
  },
  {
   "cell_type": "code",
   "execution_count": 31,
   "metadata": {},
   "outputs": [],
   "source": [
    "### create a datetime object from '5/4/1' and '929'\n",
    "import datetime\n",
    "date = '05/04/01'\n",
    "time = '0929'\n",
    "date_time = datetime.datetime.strptime(date + time, '%d/%m/%y%H%M')"
   ]
  },
  {
   "cell_type": "code",
   "execution_count": 32,
   "metadata": {},
   "outputs": [
    {
     "data": {
      "text/plain": [
       "'2001-04-05 09:29:00'"
      ]
     },
     "execution_count": 32,
     "metadata": {},
     "output_type": "execute_result"
    }
   ],
   "source": [
    "date_time.strftime('%Y-%m-%d %H:%M:%S')"
   ]
  },
  {
   "cell_type": "code",
   "execution_count": 33,
   "metadata": {},
   "outputs": [
    {
     "data": {
      "text/plain": [
       "4"
      ]
     },
     "execution_count": 33,
     "metadata": {},
     "output_type": "execute_result"
    }
   ],
   "source": [
    "date_time."
   ]
  },
  {
   "cell_type": "code",
   "execution_count": 10,
   "metadata": {},
   "outputs": [
    {
     "name": "stdout",
     "output_type": "stream",
     "text": [
      "First line: cast   lat    long    jday   mo/da/yr   gmt\n",
      "Second line: 0  26.450 -79.925   116     4/26/ 1  1706\n"
     ]
    }
   ],
   "source": [
    "with open('/Users/tillmoritz/Desktop/Work/WBTSData/GC_2001_04/CTD/ab0104000_aoml.cal', 'r') as file:\n",
    "    # Read the first line\n",
    "    first_line = file.readline().strip()\n",
    "    # Read the second line\n",
    "    second_line = file.readline().strip()\n",
    "\n",
    "# Now 'first_line' and 'second_line' contain the first two lines of the file\n",
    "print(\"First line:\", first_line)\n",
    "print(\"Second line:\", second_line)"
   ]
  },
  {
   "cell_type": "code",
   "execution_count": 26,
   "metadata": {},
   "outputs": [
    {
     "name": "stdout",
     "output_type": "stream",
     "text": [
      "5/4/01\n"
     ]
    }
   ],
   "source": [
    "### create a list with all infromation in the first line and second line\n",
    "### but for the second line take the fifth element as the date in the fromat xx/xx/xx\n",
    "first_line = []\n",
    "with open('/Users/tillmoritz/Desktop/Work/WBTSData/GC_2001_04/CTD/ab0104031_aoml.cal', 'r') as file:\n",
    "    first_line = file.readline().split()\n",
    "    second_line = file.readline().split()\n",
    "    ### date is sometimes split into two/three elemnts\n",
    "    if len(second_line) == 7:\n",
    "        second_line[4] = second_line[4] +'0'+ second_line[5]\n",
    "        second_line.pop(5)\n",
    "    if len(second_line) == 8:\n",
    "        second_line[4] = second_line[4] + second_line[5] +'0'+ second_line[6]\n",
    "        second_line.pop(5)\n",
    "        second_line.pop(5)\n",
    "    second_line_date = second_line[4]\n",
    "    print(second_line_date)\n"
   ]
  },
  {
   "cell_type": "code",
   "execution_count": 13,
   "metadata": {},
   "outputs": [
    {
     "ename": "AttributeError",
     "evalue": "module 'load_cal_files' has no attribute 'create_coordinates'",
     "output_type": "error",
     "traceback": [
      "\u001b[0;31m---------------------------------------------------------------------------\u001b[0m",
      "\u001b[0;31mAttributeError\u001b[0m                            Traceback (most recent call last)",
      "Cell \u001b[0;32mIn[13], line 1\u001b[0m\n\u001b[0;32m----> 1\u001b[0m \u001b[43mload_cal_files\u001b[49m\u001b[38;5;241;43m.\u001b[39;49m\u001b[43mcreate_coordinates\u001b[49m(\u001b[38;5;28mdir\u001b[39m)\n",
      "\u001b[0;31mAttributeError\u001b[0m: module 'load_cal_files' has no attribute 'create_coordinates'"
     ]
    }
   ],
   "source": [
    "load_cal_files.create_coordinates(dir)"
   ]
  },
  {
   "cell_type": "code",
   "execution_count": null,
   "metadata": {},
   "outputs": [],
   "source": []
  }
 ],
 "metadata": {
  "kernelspec": {
   "display_name": "WBTSdata",
   "language": "python",
   "name": "python3"
  },
  "language_info": {
   "codemirror_mode": {
    "name": "ipython",
    "version": 3
   },
   "file_extension": ".py",
   "mimetype": "text/x-python",
   "name": "python",
   "nbconvert_exporter": "python",
   "pygments_lexer": "ipython3",
   "version": "3.13.0"
  }
 },
 "nbformat": 4,
 "nbformat_minor": 2
}
